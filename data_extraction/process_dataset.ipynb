{
 "cells": [
  {
   "cell_type": "code",
   "execution_count": 2,
   "metadata": {},
   "outputs": [],
   "source": [
    "import mido\n",
    "import numpy as np\n",
    "import binascii\n",
    "import os, sys, hashlib\n"
   ]
  },
  {
   "cell_type": "code",
   "execution_count": 4,
   "metadata": {},
   "outputs": [
    {
     "name": "stdout",
     "output_type": "stream",
     "text": [
      "The dataset contains 31380 voices\n"
     ]
    }
   ],
   "source": [
    "with open('compact.bin', 'rb') as f:\n",
    "    compact = bytearray(f.read()) # open the largest existing dataset of unique DX7 voices (from https://github.com/bwhitman/learnfm)\n",
    "    \n",
    "presets = np.array(compact)\n",
    "presets = presets.reshape((-1,128)) # each voice is encoded in 128 bytes\n",
    "print(\"The dataset contains \"+str(presets.shape[0])+\" voices\")\n",
    "\n",
    "def preprocess_dataset(data):\n",
    "    maxs = data.max(axis=0)\n",
    "    assert maxs.shape == (128,)\n",
    "    data = data/maxs # normalize\n",
    "    \n",
    "    return data\n",
    "\n",
    "dataset = preprocess_dataset(presets)\n"
   ]
  },
  {
   "cell_type": "code",
   "execution_count": null,
   "metadata": {},
   "outputs": [],
   "source": []
  }
 ],
 "metadata": {
  "kernelspec": {
   "display_name": "Python 3",
   "language": "python",
   "name": "python3"
  },
  "language_info": {
   "codemirror_mode": {
    "name": "ipython",
    "version": 3
   },
   "file_extension": ".py",
   "mimetype": "text/x-python",
   "name": "python",
   "nbconvert_exporter": "python",
   "pygments_lexer": "ipython3",
   "version": "3.6.7"
  }
 },
 "nbformat": 4,
 "nbformat_minor": 4
}

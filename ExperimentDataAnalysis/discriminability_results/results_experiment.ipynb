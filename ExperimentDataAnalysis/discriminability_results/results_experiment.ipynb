{
 "cells": [
  {
   "cell_type": "code",
   "execution_count": 1,
   "metadata": {},
   "outputs": [],
   "source": [
    "import pandas as pd"
   ]
  },
  {
   "cell_type": "code",
   "execution_count": 17,
   "metadata": {},
   "outputs": [],
   "source": [
    "vae = pd.read_csv('results_vae_real.csv')\n",
    "random = pd.read_csv('results_random_real.csv')\n",
    "\n",
    "# 2 questions were not sampled by Qualtrics in random set of questions\n",
    "vae = vae.loc[~(vae==0).all(axis=1)]\n",
    "random = random.loc[~(random==0).all(axis=1)]"
   ]
  },
  {
   "cell_type": "markdown",
   "metadata": {},
   "source": [
    "## Accuracies\n",
    "Below the accuracy of correctly choosing a real sound over either a random or a variational auto-encoder sound.\n"
   ]
  },
  {
   "cell_type": "code",
   "execution_count": 79,
   "metadata": {},
   "outputs": [
    {
     "name": "stdout",
     "output_type": "stream",
     "text": [
      "Accuracy real over VAE:  0.5287356321839081\n",
      "Accuracy real over random:  0.7065868263473054\n"
     ]
    }
   ],
   "source": [
    "accuracy_real_vs_vae = vae['real'].sum()/(vae['real'].sum()+vae['vae'].sum())\n",
    "accuracy_real_vs_random = random['real'].sum()/(random['real'].sum()\n",
    "                                                +random['random'].sum())\n",
    "\n",
    "print('Accuracy real over VAE: ', accuracy_real_vs_vae)\n",
    "print('Accuracy real over random: ', accuracy_real_vs_random)"
   ]
  },
  {
   "cell_type": "markdown",
   "metadata": {},
   "source": [
    "## Standard deviation"
   ]
  },
  {
   "cell_type": "code",
   "execution_count": 84,
   "metadata": {},
   "outputs": [],
   "source": [
    "vae['accuracy_per_question'] = vae['real']/(vae['real']+vae['vae'])\n",
    "random['accuracy_per_question'] = random['real']/(random['real']+random['random'])"
   ]
  },
  {
   "cell_type": "code",
   "execution_count": 91,
   "metadata": {},
   "outputs": [
    {
     "name": "stdout",
     "output_type": "stream",
     "text": [
      "Standard deviation of accuracies per question in vae vs real:  0.32493772597888465\n",
      "Standard deviation of accuracies per question in random vs real:  0.21828280919866125\n"
     ]
    }
   ],
   "source": [
    "vae_std = vae['accuracy_per_question'].std()\n",
    "random_std = random['accuracy_per_question'].std()\n",
    "\n",
    "print('Standard deviation of accuracies per question in vae vs real: ', vae_std)\n",
    "print('Standard deviation of accuracies per question in random vs real: ', random_std)"
   ]
  },
  {
   "cell_type": "markdown",
   "metadata": {},
   "source": [
    "## Boxplot"
   ]
  },
  {
   "cell_type": "code",
   "execution_count": 101,
   "metadata": {},
   "outputs": [],
   "source": [
    "%matplotlib inline\n",
    "import matplotlib.pyplot as plt\n",
    "import numpy as np\n"
   ]
  },
  {
   "cell_type": "code",
   "execution_count": 125,
   "metadata": {},
   "outputs": [
    {
     "data": {
      "text/plain": [
       "<ErrorbarContainer object of 3 artists>"
      ]
     },
     "execution_count": 125,
     "metadata": {},
     "output_type": "execute_result"
    },
    {
     "data": {
      "image/png": "[encoded data removed]",
      "text/plain": [
       "<Figure size 720x720 with 1 Axes>"
      ]
     },
     "metadata": {
      "needs_background": "light"
     },
     "output_type": "display_data"
    }
   ],
   "source": [
    "fig = plt.figure(figsize = (10,10))\n",
    "ax = fig.add_subplot(111)\n",
    "\n",
    "x = ['Real vs. VAE ','Real vs. Random']\n",
    "y = [accuracy_real_vs_vae,accuracy_real_vs_random]\n",
    "rcParams[\"errorbar.capsize\"] = 0.5\n",
    "ax.bar(np.arange(len(x)),y)\n",
    "ax.set_xticks(np.arange(len(x)))\n",
    "ax.set_xticklabels(x,rotation= 0, zorder = 100)\n",
    "ax.set_ylabel('Accuracy')\n",
    "ax.set_ylim(0,1)\n",
    "ax.set_title('Accuracies of correctly identified human designed sounds')\n",
    "ax.errorbar([0,1], y, xerr = [0,0], yerr = [vae_std,random_std], fmt='ro',markersize=8, capsize=20)"
   ]
  }
 ],
 "metadata": {
  "kernelspec": {
   "display_name": "Python 3",
   "language": "python",
   "name": "python3"
  },
  "language_info": {
   "codemirror_mode": {
    "name": "ipython",
    "version": 3
   },
   "file_extension": ".py",
   "mimetype": "text/x-python",
   "name": "python",
   "nbconvert_exporter": "python",
   "pygments_lexer": "ipython3",
   "version": "3.7.4"
  }
 },
 "nbformat": 4,
 "nbformat_minor": 2
}

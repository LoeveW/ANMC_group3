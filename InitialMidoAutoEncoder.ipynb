{
 "cells": [
  {
   "cell_type": "code",
   "execution_count": 25,
   "metadata": {
    "pycharm": {
     "is_executing": true
    }
   },
   "outputs": [],
   "source": [
    "import os\n",
    "#os.environ[\"KERAS_BACKEND\"] = \"plaidml.keras.backend\"   # Enable to train but not to use intermediate layers\n",
    "import mido\n",
    "import pandas as pd\n",
    "import numpy as np"
   ]
  },
  {
   "cell_type": "code",
   "execution_count": 26,
   "metadata": {
    "pycharm": {
     "is_executing": false
    }
   },
   "outputs": [
    {
     "name": "stdout",
     "output_type": "stream",
     "text": [
      "The dataset contains 31380 voices\n"
     ]
    }
   ],
   "source": [
    "# To read data\n",
    "# PreSet = mido.read_syx_file('2.syx')\n",
    "# d = PreSet[0].data\n",
    "# t = PreSet[0].time\n",
    "# # We change one value \n",
    "# d = np.array(d)\n",
    "#d[3]=32 #from 32 to 31\n",
    "\n",
    "#### The new part --------------------------------------\n",
    "with open('compact.bin', 'rb') as f:\n",
    "    compact = bytearray(f.read()) # open the largest existing dataset of unique DX7 voices (from https://github.com/bwhitman/learnfm)\n",
    "    \n",
    "presets = np.array(compact)\n",
    "presets = presets.reshape((-1,128)) # each voice is encoded in 128 bytes\n",
    "print(\"The dataset contains \"+str(presets.shape[0])+\" voices\")\n",
    "\n",
    "def preprocess_dataset(data):\n",
    "    maxs = data.max(axis=0)\n",
    "    assert maxs.shape == (128,)\n",
    "    data = data/maxs # normalize\n",
    "    \n",
    "    return data\n",
    "\n",
    "d = preprocess_dataset(presets)\n",
    "\n"
   ]
  },
  {
   "cell_type": "code",
   "execution_count": 3,
   "metadata": {
    "pycharm": {
     "is_executing": false
    }
   },
   "outputs": [],
   "source": [
    "# To write data \n",
    "# time = t\n",
    "# data = d\n",
    "# wr = mido.Message('sysex', data=data, time=0)\n",
    "# mido.write_syx_file('patch.syx', [wr])\n",
    "# mido.read_syx_file('patch.syx');"
   ]
  },
  {
   "cell_type": "code",
   "execution_count": 4,
   "metadata": {
    "pycharm": {
     "is_executing": false
    }
   },
   "outputs": [],
   "source": [
    "Conf = []\n",
    "import os\n",
    "for file in os.listdir():  # We just take all files with the right format\n",
    "    if file.endswith( \".syx\" ) or file.endswith( \".SYX\" ):\n",
    "        if len(mido.read_syx_file(file))>0:\n",
    "            Conf.append(np.array(mido.read_syx_file(file)[0].data))\n"
   ]
  },
  {
   "cell_type": "code",
   "execution_count": 5,
   "metadata": {
    "pycharm": {
     "is_executing": false
    }
   },
   "outputs": [],
   "source": [
    "elements = [Conf[i] for i in range(len(Conf))]\n",
    "#Sdata = np.concatenate(elements).reshape(len(elements),-1)\n",
    "Sdata = d"
   ]
  },
  {
   "cell_type": "code",
   "execution_count": 6,
   "metadata": {
    "pycharm": {
     "is_executing": false
    }
   },
   "outputs": [],
   "source": [
    "import numpy as np\n",
    "from sklearn.datasets import load_iris, load_digits\n",
    "from sklearn.model_selection import train_test_split\n",
    "import matplotlib.pyplot as plt\n",
    "import seaborn as sns\n",
    "import pandas as pd\n",
    "import umap\n",
    "%matplotlib inline\n"
   ]
  },
  {
   "cell_type": "code",
   "execution_count": 7,
   "metadata": {
    "pycharm": {
     "is_executing": false
    }
   },
   "outputs": [],
   "source": [
    "reducer = umap.UMAP()"
   ]
  },
  {
   "cell_type": "code",
   "execution_count": 13,
   "metadata": {
    "pycharm": {
     "is_executing": false
    }
   },
   "outputs": [],
   "source": [
    "from sklearn.cluster import KMeans\n",
    "kmeans = KMeans(n_clusters=4, random_state=0).fit(Sdata)"
   ]
  },
  {
   "cell_type": "code",
   "execution_count": 9,
   "metadata": {
    "pycharm": {
     "is_executing": false
    }
   },
   "outputs": [
    {
     "name": "stderr",
     "output_type": "stream",
     "text": [
      "c:\\users\\v_301\\appdata\\local\\programs\\python\\python36\\lib\\site-packages\\numba\\typed_passes.py:293: NumbaPerformanceWarning: \u001b[1m\n",
      "The keyword argument 'parallel=True' was specified but no transformation for parallel execution was possible.\n",
      "\n",
      "To find out why, try turning on parallel diagnostics, see http://numba.pydata.org/numba-doc/latest/user/parallel.html#diagnostics for help.\n",
      "\u001b[1m\n",
      "File \"..\\..\\appdata\\local\\programs\\python\\python36\\lib\\site-packages\\umap\\rp_tree.py\", line 135:\u001b[0m\n",
      "\u001b[1m@numba.njit(fastmath=True, nogil=True, parallel=True)\n",
      "\u001b[1mdef euclidean_random_projection_split(data, indices, rng_state):\n",
      "\u001b[0m\u001b[1m^\u001b[0m\u001b[0m\n",
      "\u001b[0m\n",
      "  state.func_ir.loc))\n",
      "c:\\users\\v_301\\appdata\\local\\programs\\python\\python36\\lib\\site-packages\\numba\\typed_passes.py:293: NumbaPerformanceWarning: \u001b[1m\n",
      "The keyword argument 'parallel=True' was specified but no transformation for parallel execution was possible.\n",
      "\n",
      "To find out why, try turning on parallel diagnostics, see http://numba.pydata.org/numba-doc/latest/user/parallel.html#diagnostics for help.\n",
      "\u001b[1m\n",
      "File \"..\\..\\appdata\\local\\programs\\python\\python36\\lib\\site-packages\\umap\\rp_tree.py\", line 135:\u001b[0m\n",
      "\u001b[1m@numba.njit(fastmath=True, nogil=True, parallel=True)\n",
      "\u001b[1mdef euclidean_random_projection_split(data, indices, rng_state):\n",
      "\u001b[0m\u001b[1m^\u001b[0m\u001b[0m\n",
      "\u001b[0m\n",
      "  state.func_ir.loc))\n",
      "c:\\users\\v_301\\appdata\\local\\programs\\python\\python36\\lib\\site-packages\\umap\\nndescent.py:92: NumbaPerformanceWarning: \u001b[1m\u001b[1m\n",
      "The keyword argument 'parallel=True' was specified but no transformation for parallel execution was possible.\n",
      "\n",
      "To find out why, try turning on parallel diagnostics, see http://numba.pydata.org/numba-doc/latest/user/parallel.html#diagnostics for help.\n",
      "\u001b[1m\n",
      "File \"..\\..\\appdata\\local\\programs\\python\\python36\\lib\\site-packages\\umap\\utils.py\", line 409:\u001b[0m\n",
      "\u001b[1m@numba.njit(parallel=True)\n",
      "\u001b[1mdef build_candidates(current_graph, n_vertices, n_neighbors, max_candidates, rng_state):\n",
      "\u001b[0m\u001b[1m^\u001b[0m\u001b[0m\n",
      "\u001b[0m\u001b[0m\n",
      "  current_graph, n_vertices, n_neighbors, max_candidates, rng_state\n",
      "c:\\users\\v_301\\appdata\\local\\programs\\python\\python36\\lib\\site-packages\\numba\\typed_passes.py:293: NumbaPerformanceWarning: \u001b[1m\n",
      "The keyword argument 'parallel=True' was specified but no transformation for parallel execution was possible.\n",
      "\n",
      "To find out why, try turning on parallel diagnostics, see http://numba.pydata.org/numba-doc/latest/user/parallel.html#diagnostics for help.\n",
      "\u001b[1m\n",
      "File \"..\\..\\appdata\\local\\programs\\python\\python36\\lib\\site-packages\\umap\\nndescent.py\", line 47:\u001b[0m\n",
      "\u001b[1m    @numba.njit(parallel=True)\n",
      "\u001b[1m    def nn_descent(\n",
      "\u001b[0m    \u001b[1m^\u001b[0m\u001b[0m\n",
      "\u001b[0m\n",
      "  state.func_ir.loc))\n",
      "c:\\users\\v_301\\appdata\\local\\programs\\python\\python36\\lib\\site-packages\\umap\\spectral.py:229: UserWarning: Embedding a total of 4 separate connected components using meta-embedding (experimental)\n",
      "  n_components\n"
     ]
    }
   ],
   "source": [
    "embedding = reducer.fit_transform(Sdata)"
   ]
  },
  {
   "cell_type": "code",
   "execution_count": 14,
   "metadata": {
    "pycharm": {
     "is_executing": false
    }
   },
   "outputs": [
    {
     "data": {
      "image/png": "[encoded data removed]",
      "text/plain": [
       "<Figure size 432x288 with 1 Axes>"
      ]
     },
     "metadata": {
      "needs_background": "light"
     },
     "output_type": "display_data"
    }
   ],
   "source": [
    "plt.scatter(embedding[:, 0], embedding[:, 1], c=[sns.color_palette()[x] for x in kmeans.labels_])\n",
    "plt.gca().set_aspect('equal', 'datalim')\n",
    "plt.title('UMAP projection of configurations');\n",
    "#There are no clear clusters"
   ]
  },
  {
   "cell_type": "code",
   "execution_count": 11,
   "metadata": {
    "pycharm": {
     "is_executing": false
    }
   },
   "outputs": [],
   "source": [
    "# Auto encoder "
   ]
  },
  {
   "cell_type": "code",
   "execution_count": 15,
   "metadata": {
    "pycharm": {
     "is_executing": false
    }
   },
   "outputs": [
    {
     "name": "stderr",
     "output_type": "stream",
     "text": [
      "Using TensorFlow backend.\n"
     ]
    }
   ],
   "source": [
    "import keras\n",
    "from sklearn.preprocessing import StandardScaler\n",
    "from keras.datasets import mnist\n",
    "from keras.models import Sequential\n",
    "from keras.layers import Dense, Dropout, Flatten\n",
    "from keras.layers import Conv2D, MaxPooling2D\n",
    "from keras import backend as K\n",
    "from keras.layers.normalization import BatchNormalization"
   ]
  },
  {
   "cell_type": "code",
   "execution_count": 16,
   "metadata": {
    "pycharm": {
     "is_executing": false
    }
   },
   "outputs": [
    {
     "data": {
      "text/plain": [
       "array([[ 0.44137917, -0.61885588, -0.63832171, ...,  1.70134068,\n",
       "        -1.04588249, -0.86166212],\n",
       "       [-1.95106504, -0.72592244, -0.25271249, ..., -0.64973105,\n",
       "        -0.57380276, -0.21205277],\n",
       "       [-0.05360929,  0.05923235,  0.58277415, ...,  0.57547534,\n",
       "        -1.04588249, -0.86166212],\n",
       "       ...,\n",
       "       [ 0.1526359 ,  0.55887631,  0.16503083, ...,  1.13840801,\n",
       "         1.61799602,  2.11889842],\n",
       "       [-0.25985448,  0.84438714, -0.95966272, ..., -0.81529948,\n",
       "        -0.47264281, -0.05920352],\n",
       "       [-1.53857466,  0.13061006, -0.63832171, ..., -0.58350367,\n",
       "        -0.57380276, -0.09741583]])"
      ]
     },
     "execution_count": 16,
     "metadata": {},
     "output_type": "execute_result"
    }
   ],
   "source": [
    "scaler = StandardScaler()\n",
    "\n",
    "S=Sdata\n",
    "scaler.fit_transform(S)\n"
   ]
  },
  {
   "cell_type": "code",
   "execution_count": 17,
   "metadata": {
    "pycharm": {
     "is_executing": false
    }
   },
   "outputs": [
    {
     "name": "stdout",
     "output_type": "stream",
     "text": [
      "WARNING:tensorflow:From c:\\users\\v_301\\appdata\\local\\programs\\python\\python36\\lib\\site-packages\\keras\\backend\\tensorflow_backend.py:74: The name tf.get_default_graph is deprecated. Please use tf.compat.v1.get_default_graph instead.\n",
      "\n",
      "WARNING:tensorflow:From c:\\users\\v_301\\appdata\\local\\programs\\python\\python36\\lib\\site-packages\\keras\\backend\\tensorflow_backend.py:517: The name tf.placeholder is deprecated. Please use tf.compat.v1.placeholder instead.\n",
      "\n",
      "WARNING:tensorflow:From c:\\users\\v_301\\appdata\\local\\programs\\python\\python36\\lib\\site-packages\\keras\\backend\\tensorflow_backend.py:4138: The name tf.random_uniform is deprecated. Please use tf.random.uniform instead.\n",
      "\n",
      "WARNING:tensorflow:From c:\\users\\v_301\\appdata\\local\\programs\\python\\python36\\lib\\site-packages\\keras\\backend\\tensorflow_backend.py:133: The name tf.placeholder_with_default is deprecated. Please use tf.compat.v1.placeholder_with_default instead.\n",
      "\n",
      "WARNING:tensorflow:From c:\\users\\v_301\\appdata\\local\\programs\\python\\python36\\lib\\site-packages\\keras\\optimizers.py:790: The name tf.train.Optimizer is deprecated. Please use tf.compat.v1.train.Optimizer instead.\n",
      "\n",
      "_________________________________________________________________\n",
      "Layer (type)                 Output Shape              Param #   \n",
      "=================================================================\n",
      "dense_1 (Dense)              (None, 512)               66048     \n",
      "_________________________________________________________________\n",
      "batch_normalization_1 (Batch (None, 512)               2048      \n",
      "_________________________________________________________________\n",
      "dense_2 (Dense)              (None, 512)               262656    \n",
      "_________________________________________________________________\n",
      "batch_normalization_2 (Batch (None, 512)               2048      \n",
      "_________________________________________________________________\n",
      "dense_3 (Dense)              (None, 512)               262656    \n",
      "_________________________________________________________________\n",
      "batch_normalization_3 (Batch (None, 512)               2048      \n",
      "_________________________________________________________________\n",
      "dense_4 (Dense)              (None, 512)               262656    \n",
      "_________________________________________________________________\n",
      "batch_normalization_4 (Batch (None, 512)               2048      \n",
      "_________________________________________________________________\n",
      "dense_5 (Dense)              (None, 10)                5130      \n",
      "_________________________________________________________________\n",
      "batch_normalization_5 (Batch (None, 10)                40        \n",
      "_________________________________________________________________\n",
      "dense_6 (Dense)              (None, 512)               5632      \n",
      "_________________________________________________________________\n",
      "batch_normalization_6 (Batch (None, 512)               2048      \n",
      "_________________________________________________________________\n",
      "dense_7 (Dense)              (None, 512)               262656    \n",
      "_________________________________________________________________\n",
      "batch_normalization_7 (Batch (None, 512)               2048      \n",
      "_________________________________________________________________\n",
      "dense_8 (Dense)              (None, 512)               262656    \n",
      "_________________________________________________________________\n",
      "batch_normalization_8 (Batch (None, 512)               2048      \n",
      "_________________________________________________________________\n",
      "dense_9 (Dense)              (None, 128)               65664     \n",
      "=================================================================\n",
      "Total params: 1,470,130\n",
      "Trainable params: 1,462,942\n",
      "Non-trainable params: 7,188\n",
      "_________________________________________________________________\n"
     ]
    }
   ],
   "source": [
    "model = Sequential()\n",
    "model.add(Dense(512,activation='relu',input_dim=128))\n",
    "model.add(BatchNormalization())\n",
    "model.add(Dense(512,activation='relu'))\n",
    "model.add(BatchNormalization())\n",
    "model.add(Dense(512,activation='relu'))\n",
    "model.add(BatchNormalization())\n",
    "\n",
    "model.add(Dense(512,activation='relu'))\n",
    "model.add(BatchNormalization())\n",
    "model.add(Dense(10,activation='relu'))\n",
    "model.add(BatchNormalization())\n",
    "model.add(Dense(512,activation='relu'))\n",
    "\n",
    "model.add(BatchNormalization())\n",
    "model.add(Dense(512,activation='relu'))\n",
    "model.add(BatchNormalization())\n",
    "model.add(Dense(512,activation='relu'))\n",
    "model.add(BatchNormalization())\n",
    "model.add(Dense(128,activation='relu'))\n",
    "\n",
    "model.compile(loss=keras.losses.mean_squared_error,\n",
    "             optimizer='adam',\n",
    "             metrics = ['mean_absolute_percentage_error'])\n",
    "model.summary()"
   ]
  },
  {
   "cell_type": "code",
   "execution_count": 23,
   "metadata": {
    "pycharm": {
     "is_executing": true
    }
   },
   "outputs": [
    {
     "name": "stdout",
     "output_type": "stream",
     "text": [
      "Epoch 1/100\n",
      "31380/31380 [==============================] - 14s 452us/step - loss: 0.0669 - mean_absolute_percentage_error: 24310678.8871\n",
      "Epoch 2/100\n",
      "31380/31380 [==============================] - 2s 63us/step - loss: 0.0190 - mean_absolute_percentage_error: 10297248.5122\n",
      "Epoch 3/100\n",
      "31380/31380 [==============================] - 5s 154us/step - loss: 0.0167 - mean_absolute_percentage_error: 10386433.9026\n",
      "Epoch 4/100\n",
      "31380/31380 [==============================] - 6s 179us/step - loss: 0.0144 - mean_absolute_percentage_error: 10259948.0537\n",
      "Epoch 5/100\n",
      "31380/31380 [==============================] - 3s 103us/step - loss: 0.0135 - mean_absolute_percentage_error: 9885600.8654\n",
      "Epoch 6/100\n",
      "31380/31380 [==============================] - 3s 105us/step - loss: 0.0130 - mean_absolute_percentage_error: 9674747.6742\n",
      "Epoch 7/100\n",
      "31380/31380 [==============================] - 3s 101us/step - loss: 0.0123 - mean_absolute_percentage_error: 9196441.2022\n",
      "Epoch 8/100\n",
      "31380/31380 [==============================] - 3s 107us/step - loss: 0.0126 - mean_absolute_percentage_error: 9253058.6435\n",
      "Epoch 9/100\n",
      "31380/31380 [==============================] - 3s 103us/step - loss: 0.0114 - mean_absolute_percentage_error: 8765134.2168\n",
      "Epoch 10/100\n",
      "31380/31380 [==============================] - 3s 105us/step - loss: 0.0107 - mean_absolute_percentage_error: 8316343.6627\n",
      "Epoch 11/100\n",
      "31380/31380 [==============================] - 3s 105us/step - loss: 0.0102 - mean_absolute_percentage_error: 8249250.8115\n",
      "Epoch 12/100\n",
      "31380/31380 [==============================] - 3s 110us/step - loss: 0.0098 - mean_absolute_percentage_error: 8096981.6574\n",
      "Epoch 13/100\n",
      "31380/31380 [==============================] - 3s 109us/step - loss: 0.0096 - mean_absolute_percentage_error: 7894886.34292s\n",
      "Epoch 14/100\n",
      "31380/31380 [==============================] - 3s 107us/step - loss: 0.0093 - mean_absolute_percentage_error: 7737555.6642\n",
      "Epoch 15/100\n",
      "31380/31380 [==============================] - 3s 103us/step - loss: 0.0091 - mean_absolute_percentage_error: 7714282.8482\n",
      "Epoch 16/100\n",
      "31380/31380 [==============================] - 3s 107us/step - loss: 0.0089 - mean_absolute_percentage_error: 7562049.5163\n",
      "Epoch 17/100\n",
      "31380/31380 [==============================] - 3s 106us/step - loss: 0.0087 - mean_absolute_percentage_error: 7386384.1248\n",
      "Epoch 18/100\n",
      "31380/31380 [==============================] - 3s 103us/step - loss: 0.0087 - mean_absolute_percentage_error: 7516673.6084\n",
      "Epoch 19/100\n",
      "31380/31380 [==============================] - 3s 107us/step - loss: 0.0086 - mean_absolute_percentage_error: 7126848.1638\n",
      "Epoch 20/100\n",
      "31380/31380 [==============================] - 3s 105us/step - loss: 0.0095 - mean_absolute_percentage_error: 7583153.0750\n",
      "Epoch 21/100\n",
      "31380/31380 [==============================] - 3s 105us/step - loss: 0.0084 - mean_absolute_percentage_error: 7136905.57550s - loss: 0.0084 - mean_absolute_percentage_error\n",
      "Epoch 22/100\n",
      "31380/31380 [==============================] - 3s 106us/step - loss: 0.0082 - mean_absolute_percentage_error: 6953441.0009\n",
      "Epoch 23/100\n",
      "31380/31380 [==============================] - 3s 104us/step - loss: 0.0083 - mean_absolute_percentage_error: 6998321.0630\n",
      "Epoch 24/100\n",
      "31380/31380 [==============================] - 3s 106us/step - loss: 0.0079 - mean_absolute_percentage_error: 6588648.0116\n",
      "Epoch 25/100\n",
      "31380/31380 [==============================] - 3s 104us/step - loss: 0.0079 - mean_absolute_percentage_error: 6582815.7924\n",
      "Epoch 26/100\n",
      "31380/31380 [==============================] - 3s 107us/step - loss: 0.0078 - mean_absolute_percentage_error: 6523923.4003\n",
      "Epoch 27/100\n",
      "31380/31380 [==============================] - 3s 107us/step - loss: 0.0077 - mean_absolute_percentage_error: 6506556.4934\n",
      "Epoch 28/100\n",
      "31380/31380 [==============================] - 3s 106us/step - loss: 0.0075 - mean_absolute_percentage_error: 6105650.1612\n",
      "Epoch 29/100\n",
      "31380/31380 [==============================] - 3s 106us/step - loss: 0.0075 - mean_absolute_percentage_error: 6110798.3031\n",
      "Epoch 30/100\n",
      "31380/31380 [==============================] - 3s 104us/step - loss: 0.0076 - mean_absolute_percentage_error: 6053268.6192\n",
      "Epoch 31/100\n",
      "31380/31380 [==============================] - 3s 104us/step - loss: 0.0074 - mean_absolute_percentage_error: 5979258.1866\n",
      "Epoch 32/100\n",
      "31380/31380 [==============================] - 3s 103us/step - loss: 0.0071 - mean_absolute_percentage_error: 5765000.1335\n",
      "Epoch 33/100\n",
      "31380/31380 [==============================] - ETA: 0s - loss: 0.0070 - mean_absolute_percentage_error: 5704367.19 - 3s 102us/step - loss: 0.0070 - mean_absolute_percentage_error: 5710072.3435\n",
      "Epoch 34/100\n",
      "31380/31380 [==============================] - 3s 102us/step - loss: 0.0069 - mean_absolute_percentage_error: 5731738.8722\n",
      "Epoch 35/100\n",
      "31380/31380 [==============================] - 3s 106us/step - loss: 0.0068 - mean_absolute_percentage_error: 5676781.5876\n",
      "Epoch 36/100\n",
      "31380/31380 [==============================] - 3s 106us/step - loss: 0.0069 - mean_absolute_percentage_error: 5747825.3809\n",
      "Epoch 37/100\n",
      "31380/31380 [==============================] - 4s 112us/step - loss: 0.0067 - mean_absolute_percentage_error: 5464221.3903\n",
      "Epoch 38/100\n",
      "31380/31380 [==============================] - 3s 105us/step - loss: 0.0067 - mean_absolute_percentage_error: 5515779.3454\n",
      "Epoch 39/100\n",
      "31380/31380 [==============================] - 3s 107us/step - loss: 0.0066 - mean_absolute_percentage_error: 5463457.7174\n",
      "Epoch 40/100\n",
      "31380/31380 [==============================] - 3s 107us/step - loss: 0.0064 - mean_absolute_percentage_error: 5390091.0057\n",
      "Epoch 41/100\n",
      "31380/31380 [==============================] - 3s 102us/step - loss: 0.0063 - mean_absolute_percentage_error: 5368640.8693\n",
      "Epoch 42/100\n",
      "31380/31380 [==============================] - 3s 107us/step - loss: 0.0064 - mean_absolute_percentage_error: 5374562.7809\n",
      "Epoch 43/100\n",
      "31380/31380 [==============================] - 3s 107us/step - loss: 0.0128 - mean_absolute_percentage_error: 8139712.65700s - loss: 0.0129 - mean_absolute_percentage_error: 82\n",
      "Epoch 44/100\n",
      "31380/31380 [==============================] - 3s 108us/step - loss: 0.0090 - mean_absolute_percentage_error: 6286533.2099\n",
      "Epoch 45/100\n",
      "31380/31380 [==============================] - 3s 108us/step - loss: 0.0077 - mean_absolute_percentage_error: 5793334.9045\n",
      "Epoch 46/100\n",
      "31380/31380 [==============================] - 3s 107us/step - loss: 0.0071 - mean_absolute_percentage_error: 5651766.4071\n",
      "Epoch 47/100\n",
      "31380/31380 [==============================] - 3s 104us/step - loss: 0.0069 - mean_absolute_percentage_error: 5553139.7560\n",
      "Epoch 48/100\n",
      "31380/31380 [==============================] - 3s 104us/step - loss: 0.0067 - mean_absolute_percentage_error: 5407701.7877\n",
      "Epoch 49/100\n",
      "31380/31380 [==============================] - 3s 101us/step - loss: 0.0065 - mean_absolute_percentage_error: 5338962.7003\n",
      "Epoch 50/100\n",
      "31380/31380 [==============================] - 3s 108us/step - loss: 0.0064 - mean_absolute_percentage_error: 5254377.2467\n",
      "Epoch 51/100\n",
      "31380/31380 [==============================] - 3s 105us/step - loss: 0.0063 - mean_absolute_percentage_error: 5222516.6530\n",
      "Epoch 52/100\n",
      "31380/31380 [==============================] - 3s 104us/step - loss: 0.0069 - mean_absolute_percentage_error: 5516933.8132\n",
      "Epoch 53/100\n",
      "31380/31380 [==============================] - 3s 104us/step - loss: 0.0063 - mean_absolute_percentage_error: 5200655.5454\n",
      "Epoch 54/100\n",
      "31380/31380 [==============================] - 3s 106us/step - loss: 0.0063 - mean_absolute_percentage_error: 5175983.9795\n",
      "Epoch 55/100\n",
      "31380/31380 [==============================] - 3s 107us/step - loss: 0.0062 - mean_absolute_percentage_error: 5068916.2061\n",
      "Epoch 56/100\n",
      "31380/31380 [==============================] - 3s 106us/step - loss: 0.0061 - mean_absolute_percentage_error: 5064194.8061\n",
      "Epoch 57/100\n",
      "31380/31380 [==============================] - 3s 106us/step - loss: 0.0061 - mean_absolute_percentage_error: 5004152.2258\n",
      "Epoch 58/100\n",
      "31380/31380 [==============================] - 3s 107us/step - loss: 0.0060 - mean_absolute_percentage_error: 4943671.4542\n",
      "Epoch 59/100\n",
      "31380/31380 [==============================] - 3s 103us/step - loss: 0.0074 - mean_absolute_percentage_error: 6172884.4676\n"
     ]
    },
    {
     "name": "stdout",
     "output_type": "stream",
     "text": [
      "Epoch 60/100\n",
      "31380/31380 [==============================] - 3s 104us/step - loss: 0.0066 - mean_absolute_percentage_error: 5332337.9776\n",
      "Epoch 61/100\n",
      "31380/31380 [==============================] - 3s 106us/step - loss: 0.0064 - mean_absolute_percentage_error: 5128520.6185\n",
      "Epoch 62/100\n",
      "31380/31380 [==============================] - 3s 106us/step - loss: 0.0061 - mean_absolute_percentage_error: 4936183.6658\n",
      "Epoch 63/100\n",
      "31380/31380 [==============================] - 3s 102us/step - loss: 0.0060 - mean_absolute_percentage_error: 4783150.3390\n",
      "Epoch 64/100\n",
      "31380/31380 [==============================] - 3s 103us/step - loss: 0.0059 - mean_absolute_percentage_error: 4748333.0872\n",
      "Epoch 65/100\n",
      "31380/31380 [==============================] - 3s 106us/step - loss: 0.0066 - mean_absolute_percentage_error: 5017801.9050\n",
      "Epoch 66/100\n",
      "31380/31380 [==============================] - 3s 106us/step - loss: 0.0063 - mean_absolute_percentage_error: 4764758.3628\n",
      "Epoch 67/100\n",
      "31380/31380 [==============================] - 3s 105us/step - loss: 0.0096 - mean_absolute_percentage_error: 5924422.0583\n",
      "Epoch 68/100\n",
      "31380/31380 [==============================] - 3s 101us/step - loss: 0.0078 - mean_absolute_percentage_error: 5498327.3669\n",
      "Epoch 69/100\n",
      "31380/31380 [==============================] - 3s 104us/step - loss: 0.0071 - mean_absolute_percentage_error: 5179927.7400\n",
      "Epoch 70/100\n",
      "31380/31380 [==============================] - 3s 102us/step - loss: 0.0068 - mean_absolute_percentage_error: 4979728.5510\n",
      "Epoch 71/100\n",
      "31380/31380 [==============================] - 3s 101us/step - loss: 0.0063 - mean_absolute_percentage_error: 4841074.4144\n",
      "Epoch 72/100\n",
      "31380/31380 [==============================] - 3s 105us/step - loss: 0.0067 - mean_absolute_percentage_error: 5137959.9557\n",
      "Epoch 73/100\n",
      "31380/31380 [==============================] - 3s 103us/step - loss: 0.0063 - mean_absolute_percentage_error: 4869122.8935\n",
      "Epoch 74/100\n",
      "31380/31380 [==============================] - 3s 102us/step - loss: 0.0061 - mean_absolute_percentage_error: 4783907.8685\n",
      "Epoch 75/100\n",
      "31380/31380 [==============================] - 3s 104us/step - loss: 0.0061 - mean_absolute_percentage_error: 4751557.7808\n",
      "Epoch 76/100\n",
      "31380/31380 [==============================] - 3s 103us/step - loss: 0.0063 - mean_absolute_percentage_error: 5044224.5045\n",
      "Epoch 77/100\n",
      "31380/31380 [==============================] - 3s 103us/step - loss: 0.0063 - mean_absolute_percentage_error: 4760187.9147\n",
      "Epoch 78/100\n",
      "31380/31380 [==============================] - 3s 104us/step - loss: 0.0058 - mean_absolute_percentage_error: 4576147.0101\n",
      "Epoch 79/100\n",
      "31380/31380 [==============================] - 3s 103us/step - loss: 0.0057 - mean_absolute_percentage_error: 4565164.2472\n",
      "Epoch 80/100\n",
      "31380/31380 [==============================] - 3s 101us/step - loss: 0.0056 - mean_absolute_percentage_error: 4595918.3846\n",
      "Epoch 81/100\n",
      "31380/31380 [==============================] - 3s 104us/step - loss: 0.0056 - mean_absolute_percentage_error: 4550096.5259\n",
      "Epoch 82/100\n",
      "31380/31380 [==============================] - 3s 104us/step - loss: 0.0055 - mean_absolute_percentage_error: 4496523.5646\n",
      "Epoch 83/100\n",
      "31380/31380 [==============================] - 3s 101us/step - loss: 0.0058 - mean_absolute_percentage_error: 4622369.6332\n",
      "Epoch 84/100\n",
      "31380/31380 [==============================] - 3s 103us/step - loss: 0.0056 - mean_absolute_percentage_error: 4437023.7690\n",
      "Epoch 85/100\n",
      "31380/31380 [==============================] - 3s 105us/step - loss: 0.0055 - mean_absolute_percentage_error: 4401744.5486\n",
      "Epoch 86/100\n",
      "31380/31380 [==============================] - 3s 110us/step - loss: 0.0053 - mean_absolute_percentage_error: 4368701.3021\n",
      "Epoch 87/100\n",
      "31380/31380 [==============================] - 3s 103us/step - loss: 0.0054 - mean_absolute_percentage_error: 4371615.2386\n",
      "Epoch 88/100\n",
      "31380/31380 [==============================] - 3s 103us/step - loss: 0.0053 - mean_absolute_percentage_error: 4303637.5143\n",
      "Epoch 89/100\n",
      "31380/31380 [==============================] - 3s 105us/step - loss: 0.0136 - mean_absolute_percentage_error: 6932149.4507\n",
      "Epoch 90/100\n",
      "31380/31380 [==============================] - 3s 104us/step - loss: 0.0124 - mean_absolute_percentage_error: 6905573.2841\n",
      "Epoch 91/100\n",
      "31380/31380 [==============================] - 3s 106us/step - loss: 0.0097 - mean_absolute_percentage_error: 6372535.7973\n",
      "Epoch 92/100\n",
      "31380/31380 [==============================] - 3s 103us/step - loss: 0.0087 - mean_absolute_percentage_error: 6217020.7503\n",
      "Epoch 93/100\n",
      "31380/31380 [==============================] - 3s 104us/step - loss: 0.0082 - mean_absolute_percentage_error: 5900482.8144\n",
      "Epoch 94/100\n",
      "31380/31380 [==============================] - 3s 103us/step - loss: 0.0086 - mean_absolute_percentage_error: 6205075.8989\n",
      "Epoch 95/100\n",
      "31380/31380 [==============================] - 3s 102us/step - loss: 0.0096 - mean_absolute_percentage_error: 6074216.7556\n",
      "Epoch 96/100\n",
      "31380/31380 [==============================] - 3s 103us/step - loss: 0.0132 - mean_absolute_percentage_error: 7587226.1757\n",
      "Epoch 97/100\n",
      "31380/31380 [==============================] - 3s 105us/step - loss: 0.0117 - mean_absolute_percentage_error: 7284545.8971\n",
      "Epoch 98/100\n",
      "31380/31380 [==============================] - 3s 106us/step - loss: 0.0099 - mean_absolute_percentage_error: 6974188.8562\n",
      "Epoch 99/100\n",
      "31380/31380 [==============================] - 3s 104us/step - loss: 0.0092 - mean_absolute_percentage_error: 6763976.5465\n",
      "Epoch 100/100\n",
      "31380/31380 [==============================] - 3s 105us/step - loss: 0.0091 - mean_absolute_percentage_error: 6822518.5726\n"
     ]
    },
    {
     "data": {
      "text/plain": [
       "<keras.callbacks.History at 0x1f19a181f98>"
      ]
     },
     "execution_count": 23,
     "metadata": {},
     "output_type": "execute_result"
    }
   ],
   "source": [
    "model.fit(S,S,verbose=1,epochs=100,batch_size=512)"
   ]
  },
  {
   "cell_type": "code",
   "execution_count": 27,
   "metadata": {
    "pycharm": {
     "name": "#%% \n"
    }
   },
   "outputs": [],
   "source": [
    "model.load_weights('model.h5')\n",
    "## Values to latent representation"
   ]
  },
  {
   "cell_type": "code",
   "execution_count": 28,
   "metadata": {},
   "outputs": [],
   "source": [
    "from keras.models import Model\n",
    "#From complete representation to latent values of S \n",
    "layer_name = 'dense_5' #Intermediate \n",
    "final_name = 'dense_9'\n",
    "intermediate_layer_model = Model(inputs=model.input,\n",
    "                                 outputs=model.get_layer(layer_name).output)\n",
    "intermediate_output = intermediate_layer_model.predict(S)"
   ]
  },
  {
   "cell_type": "markdown",
   "metadata": {},
   "source": []
  },
  {
   "cell_type": "code",
   "execution_count": 29,
   "metadata": {},
   "outputs": [
    {
     "data": {
      "text/plain": [
       "array([[5.8273935, 6.827771 , 5.5943685, 7.0004277, 7.2746944, 7.6504874,\n",
       "        8.180881 , 8.10254  , 6.820442 , 6.873222 ]], dtype=float32)"
      ]
     },
     "execution_count": 29,
     "metadata": {},
     "output_type": "execute_result"
    }
   ],
   "source": [
    "latent_rep = intermediate_layer_model.predict(S[0].reshape(1,128))\n",
    "latent_rep"
   ]
  },
  {
   "cell_type": "markdown",
   "metadata": {},
   "source": [
    "## Latent representation to complete values"
   ]
  },
  {
   "cell_type": "code",
   "execution_count": 30,
   "metadata": {},
   "outputs": [
    {
     "data": {
      "text/plain": [
       "array([[0.68484116, 0.23753902, 0.16218245, 0.25423384, 0.73913175,\n",
       "        0.6288851 , 0.        , 0.        , 0.13753043, 0.09078663,\n",
       "        0.06429772, 0.        , 0.34578964, 0.04733365, 0.5382758 ,\n",
       "        0.06766444, 0.29060015, 0.4068113 , 0.17617343, 0.13996428,\n",
       "        0.25532925, 0.42755568, 0.3297174 , 0.        , 0.        ,\n",
       "        0.14877565, 0.        , 0.09102942, 0.        , 0.2791475 ,\n",
       "        0.        , 0.5694248 , 0.10687482, 0.        , 0.34366345,\n",
       "        0.21373157, 0.11719966, 0.2802805 , 0.7548833 , 0.43643683,\n",
       "        0.01737354, 0.        , 0.12367043, 0.        , 0.10352437,\n",
       "        0.        , 0.31679332, 0.        , 0.6664943 , 0.        ,\n",
       "        0.00609839, 0.61997616, 0.23841941, 0.21259525, 0.25575644,\n",
       "        0.43877494, 0.69200176, 0.02328823, 0.        , 0.09379537,\n",
       "        0.        , 0.07947905, 0.        , 0.41733265, 0.        ,\n",
       "        0.36819902, 0.        , 0.        , 0.3994904 , 0.30664134,\n",
       "        0.16582608, 0.22809413, 0.76291054, 0.63295275, 0.10662361,\n",
       "        0.        , 0.14399602, 0.        , 0.08288416, 0.        ,\n",
       "        0.29136088, 0.        , 0.3727537 , 0.        , 0.02232821,\n",
       "        0.3407146 , 0.17367074, 0.19542752, 0.27146286, 0.44427013,\n",
       "        0.3681567 , 0.        , 0.        , 0.14931987, 0.07007442,\n",
       "        0.        , 0.        , 0.23646608, 0.        , 0.42554617,\n",
       "        0.        , 0.        , 0.39190188, 0.3542974 , 0.41486108,\n",
       "        0.3301773 , 0.21445403, 0.23658895, 0.26468647, 0.23934078,\n",
       "        0.        , 0.        , 0.15755373, 0.        , 0.03903414,\n",
       "        0.        , 0.1450418 , 0.0942053 , 0.46595475, 0.6474933 ,\n",
       "        0.45551383, 0.7447593 , 0.4639703 , 0.42649344, 0.5553693 ,\n",
       "        0.40720135, 0.51194394, 0.3408634 ]], dtype=float32)"
      ]
     },
     "execution_count": 30,
     "metadata": {},
     "output_type": "execute_result"
    }
   ],
   "source": [
    "from keras import backend as K\n",
    "# with a Sequential model\n",
    "get_middle_layer_output = K.function([model.layers[9].input],\n",
    "                                  [model.layers[-1].output])\n",
    "layer_output = get_middle_layer_output([latent_rep])[0]\n",
    "layer_output"
   ]
  },
  {
   "cell_type": "markdown",
   "metadata": {},
   "source": [
    "# One example "
   ]
  },
  {
   "cell_type": "code",
   "execution_count": 31,
   "metadata": {},
   "outputs": [
    {
     "data": {
      "text/html": [
       "<div>\n",
       "<style scoped>\n",
       "    .dataframe tbody tr th:only-of-type {\n",
       "        vertical-align: middle;\n",
       "    }\n",
       "\n",
       "    .dataframe tbody tr th {\n",
       "        vertical-align: top;\n",
       "    }\n",
       "\n",
       "    .dataframe thead th {\n",
       "        text-align: right;\n",
       "    }\n",
       "</style>\n",
       "<table border=\"1\" class=\"dataframe\">\n",
       "  <thead>\n",
       "    <tr style=\"text-align: right;\">\n",
       "      <th></th>\n",
       "      <th>0.708661</th>\n",
       "      <th>0.177665</th>\n",
       "      <th>0.088496</th>\n",
       "      <th>0.325301</th>\n",
       "      <th>0.755725</th>\n",
       "      <th>0.629921</th>\n",
       "      <th>0.000000</th>\n",
       "      <th>0.000000</th>\n",
       "      <th>0.149020</th>\n",
       "      <th>0.000000</th>\n",
       "      <th>...</th>\n",
       "      <th>0.603659</th>\n",
       "      <th>0.754967</th>\n",
       "      <th>0.487923</th>\n",
       "      <th>0.737226</th>\n",
       "      <th>0.538462</th>\n",
       "      <th>0.519608</th>\n",
       "      <th>0.580838</th>\n",
       "      <th>0.570093</th>\n",
       "      <th>0.201258</th>\n",
       "      <th>0.166667</th>\n",
       "    </tr>\n",
       "  </thead>\n",
       "  <tbody>\n",
       "    <tr>\n",
       "      <th>0</th>\n",
       "      <td>0.755136</td>\n",
       "      <td>0.299473</td>\n",
       "      <td>0.198723</td>\n",
       "      <td>0.324228</td>\n",
       "      <td>0.805639</td>\n",
       "      <td>0.7509</td>\n",
       "      <td>0.351504</td>\n",
       "      <td>0.063092</td>\n",
       "      <td>0.112816</td>\n",
       "      <td>0.043544</td>\n",
       "      <td>...</td>\n",
       "      <td>0.489047</td>\n",
       "      <td>0.667434</td>\n",
       "      <td>0.468389</td>\n",
       "      <td>0.738089</td>\n",
       "      <td>0.440154</td>\n",
       "      <td>0.436828</td>\n",
       "      <td>0.55333</td>\n",
       "      <td>0.387469</td>\n",
       "      <td>0.491817</td>\n",
       "      <td>0.330571</td>\n",
       "    </tr>\n",
       "  </tbody>\n",
       "</table>\n",
       "<p>1 rows × 128 columns</p>\n",
       "</div>"
      ],
      "text/plain": [
       "   0.708661  0.177665  0.088496  0.325301  0.755725  0.629921  0.000000  \\\n",
       "0  0.755136  0.299473  0.198723  0.324228  0.805639    0.7509  0.351504   \n",
       "\n",
       "   0.000000  0.149020  0.000000  ...  0.603659  0.754967  0.487923  0.737226  \\\n",
       "0  0.063092  0.112816  0.043544  ...  0.489047  0.667434  0.468389  0.738089   \n",
       "\n",
       "   0.538462  0.519608  0.580838  0.570093  0.201258  0.166667  \n",
       "0  0.440154  0.436828   0.55333  0.387469  0.491817  0.330571  \n",
       "\n",
       "[1 rows x 128 columns]"
      ]
     },
     "execution_count": 31,
     "metadata": {},
     "output_type": "execute_result"
    }
   ],
   "source": [
    "# We can compare the reconstruction\n",
    "pd.DataFrame(scaler.inverse_transform(layer_output).T,S[0]).T"
   ]
  },
  {
   "cell_type": "code",
   "execution_count": 37,
   "metadata": {},
   "outputs": [],
   "source": [
    "# Writing the result into a file \n",
    "# integerData=[(pd.Series(scaler.inverse_transform(layer_output)[0])).values[i] \n",
    "#              for i in range(len(layer_output[0]))]\n",
    "# integerData = pd.Series(integerData)\n",
    "# # Cliping for un learned values that the autoencoder creates. \n",
    "# integerData = integerData.clip(0, 128, axis=0)\n",
    "# data = np.array(integerData)\n",
    "# wr = mido.Message('sysex', data=data, time=0)\n",
    "# mido.write_syx_file('patch.syx', [wr])\n",
    "# mido.read_syx_file('patch.syx')"
   ]
  },
  {
   "cell_type": "code",
   "execution_count": 39,
   "metadata": {},
   "outputs": [
    {
     "data": {
      "text/plain": [
       "PCA(copy=True, iterated_power='auto', n_components=None, random_state=None,\n",
       "    svd_solver='auto', tol=0.0, whiten=False)"
      ]
     },
     "execution_count": 39,
     "metadata": {},
     "output_type": "execute_result"
    }
   ],
   "source": [
    "from sklearn.decomposition import PCA\n",
    "pca = PCA()\n",
    "pca.fit(Sdata)"
   ]
  },
  {
   "cell_type": "code",
   "execution_count": 43,
   "metadata": {},
   "outputs": [
    {
     "data": {
      "text/plain": [
       "[<matplotlib.lines.Line2D at 0x1c9d2eebb00>]"
      ]
     },
     "execution_count": 43,
     "metadata": {},
     "output_type": "execute_result"
    },
    {
     "data": {
      "image/png": "[encoded data removed]",
      "text/plain": [
       "<Figure size 432x288 with 1 Axes>"
      ]
     },
     "metadata": {
      "needs_background": "light"
     },
     "output_type": "display_data"
    }
   ],
   "source": [
    "plt.plot(pca.explained_variance_ratio_)\n",
    "# Some features are more give more variance to the configuration "
   ]
  },
  {
   "cell_type": "code",
   "execution_count": 48,
   "metadata": {},
   "outputs": [
    {
     "data": {
      "text/plain": [
       "46"
      ]
     },
     "execution_count": 48,
     "metadata": {},
     "output_type": "execute_result"
    }
   ],
   "source": [
    "DimensonsFor95Percent = pd.Series (pca.explained_variance_ratio_.cumsum())\n",
    "sum(DimensonsFor95Percent>.95)\n",
    "#This means that by linear methods we would need to take 46 dimensions to preserve 95% of variance"
   ]
  },
  {
   "cell_type": "code",
   "execution_count": null,
   "metadata": {},
   "outputs": [],
   "source": []
  }
 ],
 "metadata": {
  "kernelspec": {
   "display_name": "Python 3",
   "language": "python",
   "name": "python3"
  },
  "language_info": {
   "codemirror_mode": {
    "name": "ipython",
    "version": 3
   },
   "file_extension": ".py",
   "mimetype": "text/x-python",
   "name": "python",
   "nbconvert_exporter": "python",
   "pygments_lexer": "ipython3",
   "version": "3.6.7rc1"
  },
  "pycharm": {
   "stem_cell": {
    "cell_type": "raw",
    "metadata": {
     "collapsed": false
    },
    "source": []
   }
  }
 },
 "nbformat": 4,
 "nbformat_minor": 1
}

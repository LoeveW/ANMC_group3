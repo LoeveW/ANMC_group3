{
 "cells": [
  {
   "cell_type": "code",
   "execution_count": null,
   "metadata": {},
   "outputs": [],
   "source": [
    "import sys\n",
    "sys.path.append('RenderMan/Builds/LinuxMakefile/build')\n",
    "import librenderman as rm\n",
    "import RenderPatches as rp\n",
    "import FormatConverter as fc\n",
    "\n",
    "import matplotlib.pyplot as plt\n",
    "%matplotlib inline\n",
    "import IPython.display as ipd\n",
    "def play_audio(audio, rate=44100, save_fname=None):\n",
    "    ipd.display(ipd.Audio(audio, rate=rate))\n",
    "    if save_fname is not None:\n",
    "        np.save(save_fname, audio)\n",
    "    \n",
    "import matplotlib.pyplot as plt\n",
    "import numpy as np\n",
    "\n",
    "def load_data(fname):\n",
    "    npzfile = np.load(fname)\n",
    "    return npzfile[npzfile.files[0]], npzfile[npzfile.files[1]] # presets, maxs\n",
    "fname = \"data_extraction/presets_and_maxs.npz\"\n"
   ]
  },
  {
   "cell_type": "code",
   "execution_count": null,
   "metadata": {},
   "outputs": [],
   "source": [
    "engine = rp.create_engine(\"Dexed.so\")\n",
    "\n",
    "# load presets\n",
    "data, maxs = load_data(fname)\n",
    "np.random.shuffle(data)\n",
    "\n",
    "# render and save randoms\n",
    "for i in range(40):\n",
    "    audio,_ = rp.render_random(engine, True)\n",
    "    play_audio(audio, save_fname=\"xp/random/\"+str(i))\n",
    "\n",
    "# render and save presets\n",
    "for i in range(80):\n",
    "    patch_data = fc.syx_to_rm(data[i])\n",
    "    audio = rp.render_patch(patch_data, engine, override=True)\n",
    "    play_audio(audio, save_fname=\"xp/real/\"+str(i))\n",
    "    "
   ]
  },
  {
   "cell_type": "code",
   "execution_count": null,
   "metadata": {},
   "outputs": [],
   "source": []
  }
 ],
 "metadata": {
  "kernelspec": {
   "display_name": "Python ANMC",
   "language": "python",
   "name": "anmc"
  },
  "language_info": {
   "codemirror_mode": {
    "name": "ipython",
    "version": 2
   },
   "file_extension": ".py",
   "mimetype": "text/x-python",
   "name": "python",
   "nbconvert_exporter": "python",
   "pygments_lexer": "ipython2",
   "version": "2.7.17"
  }
 },
 "nbformat": 4,
 "nbformat_minor": 2
}

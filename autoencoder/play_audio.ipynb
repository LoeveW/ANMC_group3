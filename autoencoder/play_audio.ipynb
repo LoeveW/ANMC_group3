{
 "cells": [
  {
   "cell_type": "code",
   "execution_count": null,
   "metadata": {},
   "outputs": [],
   "source": [
    "import numpy as np\n",
    "import IPython.display as ipd\n",
    "from scipy.io.wavfile import write\n",
    "import os\n",
    "def play_audio(audio, rate=44100, save_fname=None):\n",
    "    ipd.display(ipd.Audio(audio, rate=rate))\n",
    "    if save_fname is not None:\n",
    "        np.save(save_fname, audio)"
   ]
  },
  {
   "cell_type": "code",
   "execution_count": null,
   "metadata": {},
   "outputs": [],
   "source": [
    "for i in range(20):\n",
    "    print(\"Random \"+str(i))\n",
    "    audio = np.load(\"../xp/random/\"+str(i)+\".npy\")\n",
    "    play_audio(audio)   \n",
    "    \n",
    "    print(\"VAE \"+str(i))\n",
    "    audio = np.load(\"../xp/VAE/\"+str(i)+\".npy\")\n",
    "    play_audio(audio) \n",
    "    \n",
    "    print(\"real \"+str(i))\n",
    "    audio = np.load(\"../xp/real/\"+str(i)+\".npy\")\n",
    "    play_audio(audio)   \n",
    "    "
   ]
  },
  {
   "cell_type": "code",
   "execution_count": null,
   "metadata": {},
   "outputs": [],
   "source": [
    "for i in range(40):\n",
    "    print(\"random \"+str(i))\n",
    "    audio = np.load(\"../xp/random/\"+str(i)+\".npy\")\n",
    "    audio = np.asarray(audio,dtype=np.float32)\n",
    "    write('../xp/random/wav/'+str(i)+'.mp3',44100,audio)\n",
    "    \n",
    "    print(\"VAE \"+str(i))\n",
    "    audio = np.load(\"../xp/VAE/\"+str(i)+\".npy\")\n",
    "    audio = np.asarray(audio,dtype=np.float32)\n",
    "    write('../xp/VAE/wav/'+str(i)+'.mp3',44100,audio)\n",
    "    \n"
   ]
  },
  {
   "cell_type": "code",
   "execution_count": null,
   "metadata": {},
   "outputs": [],
   "source": [
    "for i in range(80):\n",
    "    print(\"real \"+str(i))\n",
    "    audio = np.load(\"../xp/real/\"+str(i)+\".npy\")\n",
    "    audio = np.asarray(audio,dtype=np.float32)\n",
    "    write('../xp/real/wav/'+str(i)+'.mp3',44100,audio)"
   ]
  }
 ],
 "metadata": {
  "kernelspec": {
   "display_name": "Python 3",
   "language": "python",
   "name": "python3"
  },
  "language_info": {
   "codemirror_mode": {
    "name": "ipython",
    "version": 3
   },
   "file_extension": ".py",
   "mimetype": "text/x-python",
   "name": "python",
   "nbconvert_exporter": "python",
   "pygments_lexer": "ipython3",
   "version": "3.7.4"
  }
 },
 "nbformat": 4,
 "nbformat_minor": 4
}

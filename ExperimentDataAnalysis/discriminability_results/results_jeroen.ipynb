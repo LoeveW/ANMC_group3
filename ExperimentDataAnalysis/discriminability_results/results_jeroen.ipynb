{
 "cells": [
  {
   "cell_type": "code",
   "execution_count": 1,
   "metadata": {},
   "outputs": [],
   "source": [
    "import pandas as pd\n",
    "import numpy as np\n",
    "import matplotlib\n",
    "import matplotlib.pyplot as plt\n",
    "# use LaTeX fonts in the plot\n",
    "plt.rc('text', usetex=True)\n",
    "plt.rc('font', family='serif')\n",
    " "
   ]
  },
  {
   "cell_type": "code",
   "execution_count": 2,
   "metadata": {},
   "outputs": [],
   "source": [
    "results_participants = pd.read_csv('participant_results.csv')\n",
    "correct_answers = pd.read_csv('correct_answers.csv')"
   ]
  },
  {
   "cell_type": "code",
   "execution_count": 3,
   "metadata": {},
   "outputs": [],
   "source": [
    "accuracy_VAE = []\n",
    "for i in range(results_participants.shape[0]):\n",
    "    \n",
    "    participant_correct_answers = np.sum(results_participants.iloc[i,2:32].to_numpy() == correct_answers.iloc[0:30,1])\n",
    "    participant_total_answers = np.sum(results_participants.iloc[i,2:32]>0)\n",
    "    accuracy_VAE.append(participant_correct_answers/participant_total_answers)"
   ]
  },
  {
   "cell_type": "code",
   "execution_count": 4,
   "metadata": {},
   "outputs": [],
   "source": [
    "results_participants['accuracy_VAE'] = accuracy_VAE"
   ]
  },
  {
   "cell_type": "code",
   "execution_count": 5,
   "metadata": {},
   "outputs": [],
   "source": [
    "accuracy_random = []\n",
    "for i in range(results_participants.shape[0]):\n",
    "    \n",
    "    participant_correct_answers = np.sum(results_participants.iloc[i,32:62].to_numpy() == correct_answers.iloc[30:60,1])\n",
    "    participant_total_answers = np.sum(results_participants.iloc[i,32:62]>0)\n",
    "    accuracy_random.append(participant_correct_answers/participant_total_answers)"
   ]
  },
  {
   "cell_type": "code",
   "execution_count": 6,
   "metadata": {},
   "outputs": [],
   "source": [
    "results_participants['accuracy_random'] = accuracy_random"
   ]
  },
  {
   "cell_type": "code",
   "execution_count": 7,
   "metadata": {},
   "outputs": [
    {
     "data": {
      "text/plain": [
       "0.537861058694392"
      ]
     },
     "execution_count": 7,
     "metadata": {},
     "output_type": "execute_result"
    }
   ],
   "source": [
    "results_participants['accuracy_random'].mean()\n",
    "results_participants['accuracy_VAE'].mean()"
   ]
  },
  {
   "cell_type": "code",
   "execution_count": 13,
   "metadata": {},
   "outputs": [
    {
     "data": {
      "image/png": "[encoded data removed]",
      "text/plain": [
       "<Figure size 360x360 with 1 Axes>"
      ]
     },
     "metadata": {
      "needs_background": "light"
     },
     "output_type": "display_data"
    }
   ],
   "source": [
    "# plt.boxplot([accuracy_random,accuracy_VAE])\n",
    "plt.figure(figsize=(5,5))\n",
    "plt.boxplot(accuracy_random)\n",
    "plt.title(r'\\textbf{Accuracy of identifying real between random and real sounds}', fontsize=12)\n",
    "plt.xlabel(r'\\textbf{Distribution of accuracies}', fontsize=12)\n",
    "plt.xticks([])\n",
    "plt.ylim(0,1.01)\n",
    "plt.hlines(y=0.5, xmin=0.5, xmax=1.5,colors='r', linestyles='dashed')\n",
    "plt.savefig('random_vs_real.pdf', bbox_inches='tight')\n",
    "plt.show()"
   ]
  },
  {
   "cell_type": "code",
   "execution_count": 10,
   "metadata": {},
   "outputs": [
    {
     "data": {
      "image/png": "[encoded data removed]",
      "text/plain": [
       "<Figure size 360x360 with 1 Axes>"
      ]
     },
     "metadata": {
      "needs_background": "light"
     },
     "output_type": "display_data"
    }
   ],
   "source": [
    "plt.figure(figsize=[5,5])\n",
    "plt.boxplot(accuracy_VAE)\n",
    "plt.title(r'\\textbf{Accuracy of identifying real between VAE and real sounds}',fontsize=12)\n",
    "plt.xlabel(r'\\textbf{Distribution of accuracies}',fontsize=12)\n",
    "plt.ylim(0,1.01)\n",
    "plt.xticks([])\n",
    "plt.hlines(y=0.5, xmin=0.5, xmax=1.5,colors='r', linestyles='dashed')\n",
    "plt.savefig('VAE_vs_real.pdf' ,bbox_inches='tight')\n",
    "plt.show()\n"
   ]
  },
  {
   "cell_type": "code",
   "execution_count": null,
   "metadata": {},
   "outputs": [],
   "source": []
  },
  {
   "cell_type": "code",
   "execution_count": null,
   "metadata": {},
   "outputs": [],
   "source": []
  }
 ],
 "metadata": {
  "kernelspec": {
   "display_name": "Python 3",
   "language": "python",
   "name": "python3"
  },
  "language_info": {
   "codemirror_mode": {
    "name": "ipython",
    "version": 3
   },
   "file_extension": ".py",
   "mimetype": "text/x-python",
   "name": "python",
   "nbconvert_exporter": "python",
   "pygments_lexer": "ipython3",
   "version": "3.8.1"
  }
 },
 "nbformat": 4,
 "nbformat_minor": 4
}
